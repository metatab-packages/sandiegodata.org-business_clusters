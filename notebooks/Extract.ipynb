{
 "cells": [
  {
   "cell_type": "code",
   "execution_count": 1,
   "metadata": {},
   "outputs": [],
   "source": [
    "\n",
    "import seaborn as sns\n",
    "import metapack as mp\n",
    "import pandas as pd\n",
    "import geopandas as gpd\n",
    "import numpy as np\n",
    "import matplotlib.pyplot as plt\n",
    "from IPython.display import display \n",
    "\n",
    "from demosearch import FileCache\n",
    "from pathlib import Path\n",
    "\n",
    "%matplotlib inline\n",
    "sns.set_context('notebook')\n",
    "mp.jupyter.init()"
   ]
  },
  {
   "cell_type": "code",
   "execution_count": 2,
   "metadata": {},
   "outputs": [
    {
     "data": {
      "text/html": [
       "<h1>San Diego Business Clusters</h1>\n",
       "<p><code>sandiegodata.org-business_clusters-1.3.3</code> Last Update: 2021-03-26T16:01:10</p>\n",
       "<p><em>Business in San Diego linked to entertainment clusters and population density.</em></p>\n",
       "<p>This dataset processes the City of San Diego Master Business file to add\n",
       "geocoded addresses and links to business clusters. San Diego publishes two\n",
       "lists of businesses, which are based on payment of the San Diego City business\n",
       "tax: the Master Business File, and a <a href=\"https://data.sandiegodata.org/dataset/sangis-org-business-sites/\">SANGIS file that includes geographic\n",
       "information.\n",
       "</a> Unfortunatel\n",
       "y, these files are quite different and cannot be linked. The SANGIS file is\n",
       "oriented toward the tax assessors parcel that the business occupies, and the\n",
       "Master Business List has account numbers and addresses, but there is no common\n",
       "key between the files.</p>\n",
       "<p>The files in this package add address geocodes to the Master Business List, and\n",
       "links the businesses to clusters of businesses. The Clusters are created by\n",
       "collecting nearby businesses from Open Street Map data. The cluster types are:</p>\n",
       "<ul>\n",
       "<li>NA: No cluster, 31787 businesses</li>\n",
       "<li>shop: OSM tags 'shop', 'clothes', 'supermarket', 'bank', 'laundry', 'parking',  14615 businesses</li>\n",
       "<li>ent: Entertainment, OSM tags 'cafe', 'restaurant', 'bar', 14320 businesses</li>\n",
       "<li>casual: Fast food and convenience stores, OSM tags  'fast_food', 'convenience', 10991 businesses</li>\n",
       "</ul>\n",
       "<p>The <code>sd_business_clusters</code> file has the clusters and their WKT geographies.\n",
       "The <code>sd_custered_businesses</code> links San Diego businesses to clusters, and a\n",
       "single business may be in more than one cluster because the clusters of\n",
       "different types overlap. The <code>sd_ucustered_businesses</code> has the businesses deduplicated, with a business that is in multiple clusters taking only one cluster, in this order, from highest to lowest preference: 'ent', 'shop', 'casual','NA'</p>\n",
       "<h2>NAICS Codes</h2>\n",
       "<p>It appears that the  NAICS codes used in the Master Business List are vintage 2007. The code '72221' appears frequently, which is valid in 2007 NAICS, but not in 2012 or 2016 NAICS. </p>\n",
       "<h2>Geocoding</h2>\n",
       "<p>The geocoding was performed with a local installation of Pelias. There are some notable errors in the geocoding. For instance, Ba Ho Liquor and Deli, with address of '4031 AVATI DR SUITE I SAN DIEGO 92117-4403, CA', was geocoded to 4144 Avati, moving the location from a neighborhood mini-mall to a residence. It is unknown how many such error there are, so use the geocodes with caution.</p>\n",
       "<h2>Contacts</h2>\n",
       "<ul>\n",
       "<li><strong>Wrangler</strong> <a href=\"mailto:eric@civicknowledge.com\">Eric Busboom</a>, <a href=\"http://civicknowledge.com\">Civic Knowledge</a></li>\n",
       "</ul>\n",
       "<h2>Resources</h2>\n",
       "<ul>\n",
       "<li><strong> <a href=\"notebooks/Extract.ipynb#sb_mbl\">sb_mbl</a></strong>. Businesses registered in San DIego, from the Master BusinessList</li>\n",
       "<li><strong> <a href=\"notebooks/Extract.ipynb#sd_business_clusters\">sd_business_clusters</a></strong>. Geographic boundaries of business clusters</li>\n",
       "<li><strong> <a href=\"notebooks/Extract.ipynb#sd_businesses\">sd_businesses</a></strong>. San Diego Businesses, geocoded</li>\n",
       "<li><strong> <a href=\"notebooks/Extract.ipynb#sd_custered_businesses\">sd_clustered_businesses</a></strong>. San Diego Businesses, geocodes and linked to clusters. Businesses in multiple clusters are duplicated</li>\n",
       "<li><strong> <a href=\"notebooks/Extract.ipynb#naics\">naics</a></strong>. Naics codes for San Diego businesses</li>\n",
       "<li><strong> <a href=\"notebooks/Extract.ipynb#blocks\">blockgroups</a></strong>. Geo data for census block groups and total population</li>\n",
       "<li><strong> <a href=\"notebooks/Extract.ipynb#bid\">bid</a></strong>. San Diego Business Improvement Districts</li>\n",
       "</ul>\n",
       "<h2>References</h2>\n",
       "<ul><li> <strong>business_clusters</string>, <em>index:civicknowledge.com-osm-demosearch-2.1.1#business_clusters</em>. US business clusters</li><li> <strong><a href=\"https://www.sandiego.gov/sites/default/files/tr_active1.csv\">sd_businesses_ak</a></strong>. San Diego Businesses A-K</li><li> <strong><a href=\"https://www.sandiego.gov/sites/default/files/tr_active2.csv\">sd_businesses_lz</a></strong>. San Diego Businesses L-Z</li><li> <strong>business_sites</string>, <em>metapack+http://library.metatab.org/sangis.org-business_sites.csv#business_sites</em>. San DIego Business locations, from SANGIS</li><li> <strong>sd_county_boundary</string>, <em>metapack+http://library.metatab.org/sandiegodata.org-geography-2018-13.csv#sd_county_boundary</em>. San Diego County Geo boundry</li><li> <strong><a href=\"https://www.census.gov/naics/2007NAICS/2007_NAICS_Index_File.xls\">naics_index_2007</a></strong>. NAICS index file, 2007.</li><li> <strong><a href=\"https://www.census.gov/naics/2017NAICS/2-6%20digit_2017_Codes.xlsx\">naics_index_2007_26</a></strong>. NAICS index file, 2007, 2 to 6 digit codes</li><li> <strong>census_bg</string>, <em>censusgeo://2019/5/CA/blockgroup</em>. CA Census Blocks</li><li> <strong>total_population</string>, <em>census://2018/5/CA/blockgroup/B01003</em>. Total population by blocks (2018 b/c download errors in 2019(</li><li> <strong>bez</string>, <em>shape+file:data/Business_Enterprise_Zones_SD.ZIP</em>. Business district from SANGIS</li><li> <strong>bid</string>, <em>shape+file:data/Business_Improvement_Districts_SD.ZIP</em>. Business district from SANGIS</li><li> <strong>brez</string>, <em>shape+file:data/Business_Regional_Enterprise_Zones_SD.zip</em>. Business district from SANGIS</li><li> <strong>btea</string>, <em>shape+file:data/Business_Targeted_Employment_Areas_SD.ZIP</em>. Business district from SANGIS</li><li> <strong>promise</string>, <em>shape+file:data/Promise_Zone_SD.zip</em>. Business district from SANGIS</li><li> <strong>pbid</string>, <em>shape+file:data/Property_Based_Improvement_Districts_SD.ZIP</em>. Business district from SANGIS</li><ul>"
      ],
      "text/plain": [
       "# San Diego Business Clusters\n",
       "`sandiegodata.org-business_clusters-1.3.3` Last Update: 2021-03-26T16:01:10\n",
       "\n",
       "_Business in San Diego linked to entertainment clusters and population density._\n",
       "\n",
       "\n",
       "This dataset processes the City of San Diego Master Business file to add\n",
       "geocoded addresses and links to business clusters. San Diego publishes two\n",
       "lists of businesses, which are based on payment of the San Diego City business\n",
       "tax: the Master Business File, and a [SANGIS file that includes geographic\n",
       "information.\n",
       "](https://data.sandiegodata.org/dataset/sangis-org-business-sites/) Unfortunatel\n",
       "y, these files are quite different and cannot be linked. The SANGIS file is\n",
       "oriented toward the tax assessors parcel that the business occupies, and the\n",
       "Master Business List has account numbers and addresses, but there is no common\n",
       "key between the files.\n",
       "\n",
       "The files in this package add address geocodes to the Master Business List, and\n",
       "links the businesses to clusters of businesses. The Clusters are created by\n",
       "collecting nearby businesses from Open Street Map data. The cluster types are:\n",
       "\n",
       "* NA: No cluster, 31787 businesses\n",
       "* shop: OSM tags 'shop', 'clothes', 'supermarket', 'bank', 'laundry', 'parking',  14615 businesses\n",
       "* ent: Entertainment, OSM tags 'cafe', 'restaurant', 'bar', 14320 businesses\n",
       "* casual: Fast food and convenience stores, OSM tags  'fast_food', 'convenience', 10991 businesses\n",
       "\n",
       "The ``sd_business_clusters`` file has the clusters and their WKT geographies.\n",
       "The ``sd_custered_businesses`` links San Diego businesses to clusters, and a\n",
       "single business may be in more than one cluster because the clusters of\n",
       "different types overlap. The `sd_ucustered_businesses` has the businesses deduplicated, with a business that is in multiple clusters taking only one cluster, in this order, from highest to lowest preference: 'ent', 'shop', 'casual','NA'\n",
       "\n",
       "## NAICS Codes\n",
       "\n",
       "It appears that the  NAICS codes used in the Master Business List are vintage 2007. The code '72221' appears frequently, which is valid in 2007 NAICS, but not in 2012 or 2016 NAICS. \n",
       "\n",
       "## Geocoding\n",
       "\n",
       "The geocoding was performed with a local installation of Pelias. There are some notable errors in the geocoding. For instance, Ba Ho Liquor and Deli, with address of '4031 AVATI DR SUITE I SAN DIEGO 92117-4403, CA', was geocoded to 4144 Avati, moving the location from a neighborhood mini-mall to a residence. It is unknown how many such error there are, so use the geocodes with caution.\n",
       "\n",
       "\n",
       " \n",
       "\n",
       "## Contacts\n",
       "\n",
       "* **Wrangler** [Eric Busboom](mailto:eric@civicknowledge.com), [Civic Knowledge](http://civicknowledge.com)\n",
       "\n",
       "## Resources\n",
       "\n",
       "* ** [sb_mbl](notebooks/Extract.ipynb#sb_mbl)**. Businesses registered in San DIego, from the Master BusinessList\n",
       "* ** [sd_business_clusters](notebooks/Extract.ipynb#sd_business_clusters)**. Geographic boundaries of business clusters\n",
       "* ** [sd_businesses](notebooks/Extract.ipynb#sd_businesses)**. San Diego Businesses, geocoded\n",
       "* ** [sd_clustered_businesses](notebooks/Extract.ipynb#sd_custered_businesses)**. San Diego Businesses, geocodes and linked to clusters. Businesses in multiple clusters are duplicated\n",
       "* ** [naics](notebooks/Extract.ipynb#naics)**. Naics codes for San Diego businesses\n",
       "* ** [blockgroups](notebooks/Extract.ipynb#blocks)**. Geo data for census block groups and total population\n",
       "* ** [bid](notebooks/Extract.ipynb#bid)**. San Diego Business Improvement Districts\n",
       "\n",
       "## References\n",
       "<ul><li> <strong>business_clusters</string>, <em>index:civicknowledge.com-osm-demosearch-2.1.1#business_clusters</em>. US business clusters</li><li> <strong><a href=\"https://www.sandiego.gov/sites/default/files/tr_active1.csv\">sd_businesses_ak</a></strong>. San Diego Businesses A-K</li><li> <strong><a href=\"https://www.sandiego.gov/sites/default/files/tr_active2.csv\">sd_businesses_lz</a></strong>. San Diego Businesses L-Z</li><li> <strong>business_sites</string>, <em>metapack+http://library.metatab.org/sangis.org-business_sites.csv#business_sites</em>. San DIego Business locations, from SANGIS</li><li> <strong>sd_county_boundary</string>, <em>metapack+http://library.metatab.org/sandiegodata.org-geography-2018-13.csv#sd_county_boundary</em>. San Diego County Geo boundry</li><li> <strong><a href=\"https://www.census.gov/naics/2007NAICS/2007_NAICS_Index_File.xls\">naics_index_2007</a></strong>. NAICS index file, 2007.</li><li> <strong><a href=\"https://www.census.gov/naics/2017NAICS/2-6%20digit_2017_Codes.xlsx\">naics_index_2007_26</a></strong>. NAICS index file, 2007, 2 to 6 digit codes</li><li> <strong>census_bg</string>, <em>censusgeo://2019/5/CA/blockgroup</em>. CA Census Blocks</li><li> <strong>total_population</string>, <em>census://2018/5/CA/blockgroup/B01003</em>. Total population by blocks (2018 b/c download errors in 2019(</li><li> <strong>bez</string>, <em>shape+file:data/Business_Enterprise_Zones_SD.ZIP</em>. Business district from SANGIS</li><li> <strong>bid</string>, <em>shape+file:data/Business_Improvement_Districts_SD.ZIP</em>. Business district from SANGIS</li><li> <strong>brez</string>, <em>shape+file:data/Business_Regional_Enterprise_Zones_SD.zip</em>. Business district from SANGIS</li><li> <strong>btea</string>, <em>shape+file:data/Business_Targeted_Employment_Areas_SD.ZIP</em>. Business district from SANGIS</li><li> <strong>promise</string>, <em>shape+file:data/Promise_Zone_SD.zip</em>. Business district from SANGIS</li><li> <strong>pbid</string>, <em>shape+file:data/Property_Based_Improvement_Districts_SD.ZIP</em>. Business district from SANGIS</li><ul>\n"
      ]
     },
     "execution_count": 2,
     "metadata": {},
     "output_type": "execute_result"
    }
   ],
   "source": [
    "#pkg = mp.jupyter.open_package()\n",
    "pkg = mp.jupyter.open_source_package()\n",
    "\n",
    "pkg_root = Path(pkg.path).parent\n",
    "cache = FileCache(pkg_root.joinpath('data/cache'))\n",
    "\n",
    "pkg"
   ]
  },
  {
   "cell_type": "code",
   "execution_count": 3,
   "metadata": {},
   "outputs": [
    {
     "name": "stdout",
     "output_type": "stream",
     "text": [
      "XXXX lib\n",
      "No module named 'lib'\n",
      "XXXX pylib\n",
      "No module named 'pylib.clusters'\n"
     ]
    },
    {
     "ename": "AssertionError",
     "evalue": "SHould not get here",
     "output_type": "error",
     "traceback": [
      "\u001b[0;31m---------------------------------------------------------------------------\u001b[0m",
      "\u001b[0;31mAssertionError\u001b[0m                            Traceback (most recent call last)",
      "\u001b[0;32m<ipython-input-3-adabd1fd670a>\u001b[0m in \u001b[0;36m<module>\u001b[0;34m\u001b[0m\n\u001b[0;32m----> 1\u001b[0;31m \u001b[0mpkg\u001b[0m\u001b[0;34m.\u001b[0m\u001b[0mreference\u001b[0m\u001b[0;34m(\u001b[0m\u001b[0;34m'naics_index_2007_26'\u001b[0m\u001b[0;34m)\u001b[0m\u001b[0;34m.\u001b[0m\u001b[0mdataframe\u001b[0m\u001b[0;34m(\u001b[0m\u001b[0;34m)\u001b[0m\u001b[0;34m\u001b[0m\u001b[0;34m\u001b[0m\u001b[0m\n\u001b[0m",
      "\u001b[0;32m~/proj/metatab-dev/metapack-dev/metapack/src/metapack/terms.py\u001b[0m in \u001b[0;36mdataframe\u001b[0;34m(self, dtype, parse_dates, *args, **kwargs)\u001b[0m\n\u001b[1;32m    989\u001b[0m             \u001b[0;32mpass\u001b[0m\u001b[0;34m\u001b[0m\u001b[0;34m\u001b[0m\u001b[0m\n\u001b[1;32m    990\u001b[0m \u001b[0;34m\u001b[0m\u001b[0m\n\u001b[0;32m--> 991\u001b[0;31m         \u001b[0;32mreturn\u001b[0m \u001b[0msuper\u001b[0m\u001b[0;34m(\u001b[0m\u001b[0;34m)\u001b[0m\u001b[0;34m.\u001b[0m\u001b[0mdataframe\u001b[0m\u001b[0;34m(\u001b[0m\u001b[0;34m*\u001b[0m\u001b[0margs\u001b[0m\u001b[0;34m,\u001b[0m \u001b[0;34m**\u001b[0m\u001b[0mkwargs\u001b[0m\u001b[0;34m)\u001b[0m\u001b[0;34m\u001b[0m\u001b[0;34m\u001b[0m\u001b[0m\n\u001b[0m\u001b[1;32m    992\u001b[0m \u001b[0;34m\u001b[0m\u001b[0m\n\u001b[1;32m    993\u001b[0m \u001b[0;34m\u001b[0m\u001b[0m\n",
      "\u001b[0;32m~/proj/metatab-dev/metapack-dev/metapack/src/metapack/terms.py\u001b[0m in \u001b[0;36mdataframe\u001b[0;34m(self, dtype, parse_dates, *args, **kwargs)\u001b[0m\n\u001b[1;32m    676\u001b[0m         \u001b[0;32mfrom\u001b[0m \u001b[0mrowgenerators\u001b[0m\u001b[0;34m.\u001b[0m\u001b[0mexceptions\u001b[0m \u001b[0;32mimport\u001b[0m \u001b[0mRowGeneratorConfigError\u001b[0m\u001b[0;34m,\u001b[0m \u001b[0mRowGeneratorError\u001b[0m\u001b[0;34m\u001b[0m\u001b[0;34m\u001b[0m\u001b[0m\n\u001b[1;32m    677\u001b[0m \u001b[0;34m\u001b[0m\u001b[0m\n\u001b[0;32m--> 678\u001b[0;31m         \u001b[0mrg\u001b[0m \u001b[0;34m=\u001b[0m \u001b[0mself\u001b[0m\u001b[0;34m.\u001b[0m\u001b[0mrow_generator\u001b[0m\u001b[0;34m\u001b[0m\u001b[0;34m\u001b[0m\u001b[0m\n\u001b[0m\u001b[1;32m    679\u001b[0m \u001b[0;34m\u001b[0m\u001b[0m\n\u001b[1;32m    680\u001b[0m         \u001b[0mmod_kwargs\u001b[0m \u001b[0;34m=\u001b[0m \u001b[0mself\u001b[0m\u001b[0;34m.\u001b[0m\u001b[0m_update_pandas_kwargs\u001b[0m\u001b[0;34m(\u001b[0m\u001b[0mdtype\u001b[0m\u001b[0;34m,\u001b[0m \u001b[0mparse_dates\u001b[0m\u001b[0;34m,\u001b[0m \u001b[0mkwargs\u001b[0m\u001b[0;34m)\u001b[0m\u001b[0;34m\u001b[0m\u001b[0;34m\u001b[0m\u001b[0m\n",
      "\u001b[0;32m~/proj/metatab-dev/metapack-dev/metapack/src/metapack/terms.py\u001b[0m in \u001b[0;36mrow_generator\u001b[0;34m(self)\u001b[0m\n\u001b[1;32m    407\u001b[0m     \u001b[0;34m@\u001b[0m\u001b[0mproperty\u001b[0m\u001b[0;34m\u001b[0m\u001b[0;34m\u001b[0m\u001b[0m\n\u001b[1;32m    408\u001b[0m     \u001b[0;32mdef\u001b[0m \u001b[0mrow_generator\u001b[0m\u001b[0;34m(\u001b[0m\u001b[0mself\u001b[0m\u001b[0;34m)\u001b[0m\u001b[0;34m:\u001b[0m\u001b[0;34m\u001b[0m\u001b[0;34m\u001b[0m\u001b[0m\n\u001b[0;32m--> 409\u001b[0;31m         \u001b[0;32mreturn\u001b[0m \u001b[0mself\u001b[0m\u001b[0;34m.\u001b[0m\u001b[0m_row_generator\u001b[0m\u001b[0;34m(\u001b[0m\u001b[0;34m)\u001b[0m\u001b[0;34m\u001b[0m\u001b[0;34m\u001b[0m\u001b[0m\n\u001b[0m\u001b[1;32m    410\u001b[0m \u001b[0;34m\u001b[0m\u001b[0m\n\u001b[1;32m    411\u001b[0m     \u001b[0;34m@\u001b[0m\u001b[0mproperty\u001b[0m\u001b[0;34m\u001b[0m\u001b[0;34m\u001b[0m\u001b[0m\n",
      "\u001b[0;32m~/proj/metatab-dev/metapack-dev/metapack/src/metapack/terms.py\u001b[0m in \u001b[0;36m_row_generator\u001b[0;34m(self, rptable)\u001b[0m\n\u001b[1;32m    453\u001b[0m         g = get_generator(ut, table=rptable, resource=self,\n\u001b[1;32m    454\u001b[0m                           \u001b[0mdoc\u001b[0m\u001b[0;34m=\u001b[0m\u001b[0mself\u001b[0m\u001b[0;34m.\u001b[0m\u001b[0m_doc\u001b[0m\u001b[0;34m,\u001b[0m \u001b[0mworking_dir\u001b[0m\u001b[0;34m=\u001b[0m\u001b[0mself\u001b[0m\u001b[0;34m.\u001b[0m\u001b[0m_doc\u001b[0m\u001b[0;34m.\u001b[0m\u001b[0mdoc_dir\u001b[0m\u001b[0;34m,\u001b[0m\u001b[0;34m\u001b[0m\u001b[0;34m\u001b[0m\u001b[0m\n\u001b[0;32m--> 455\u001b[0;31m                           env=self.env, source_url=self.expanded_url)\n\u001b[0m\u001b[1;32m    456\u001b[0m \u001b[0;34m\u001b[0m\u001b[0m\n\u001b[1;32m    457\u001b[0m         \u001b[0;32massert\u001b[0m \u001b[0mg\u001b[0m\u001b[0;34m,\u001b[0m \u001b[0mut\u001b[0m\u001b[0;34m\u001b[0m\u001b[0;34m\u001b[0m\u001b[0m\n",
      "\u001b[0;32m~/proj/metatab-dev/metapack-dev/metapack/src/metapack/terms.py\u001b[0m in \u001b[0;36menv\u001b[0;34m(self)\u001b[0m\n\u001b[1;32m    950\u001b[0m     \u001b[0;34m@\u001b[0m\u001b[0mproperty\u001b[0m\u001b[0;34m\u001b[0m\u001b[0;34m\u001b[0m\u001b[0m\n\u001b[1;32m    951\u001b[0m     \u001b[0;32mdef\u001b[0m \u001b[0menv\u001b[0m\u001b[0;34m(\u001b[0m\u001b[0mself\u001b[0m\u001b[0;34m)\u001b[0m\u001b[0;34m:\u001b[0m\u001b[0;34m\u001b[0m\u001b[0;34m\u001b[0m\u001b[0m\n\u001b[0;32m--> 952\u001b[0;31m         \u001b[0me\u001b[0m \u001b[0;34m=\u001b[0m \u001b[0msuper\u001b[0m\u001b[0;34m(\u001b[0m\u001b[0;34m)\u001b[0m\u001b[0;34m.\u001b[0m\u001b[0menv\u001b[0m\u001b[0;34m\u001b[0m\u001b[0;34m\u001b[0m\u001b[0m\n\u001b[0m\u001b[1;32m    953\u001b[0m         \u001b[0me\u001b[0m\u001b[0;34m[\u001b[0m\u001b[0;34m'reference'\u001b[0m\u001b[0;34m]\u001b[0m \u001b[0;34m=\u001b[0m \u001b[0mself\u001b[0m\u001b[0;34m\u001b[0m\u001b[0;34m\u001b[0m\u001b[0m\n\u001b[1;32m    954\u001b[0m         \u001b[0;32mreturn\u001b[0m \u001b[0me\u001b[0m\u001b[0;34m\u001b[0m\u001b[0;34m\u001b[0m\u001b[0m\n",
      "\u001b[0;32m~/proj/metatab-dev/metapack-dev/metapack/src/metapack/terms.py\u001b[0m in \u001b[0;36menv\u001b[0;34m(self)\u001b[0m\n\u001b[1;32m     77\u001b[0m         \u001b[0;32mfrom\u001b[0m \u001b[0mcopy\u001b[0m \u001b[0;32mimport\u001b[0m \u001b[0mcopy\u001b[0m\u001b[0;34m\u001b[0m\u001b[0;34m\u001b[0m\u001b[0m\n\u001b[1;32m     78\u001b[0m \u001b[0;34m\u001b[0m\u001b[0m\n\u001b[0;32m---> 79\u001b[0;31m         \u001b[0menv\u001b[0m \u001b[0;34m=\u001b[0m \u001b[0mcopy\u001b[0m\u001b[0;34m(\u001b[0m\u001b[0mself\u001b[0m\u001b[0;34m.\u001b[0m\u001b[0mdoc\u001b[0m\u001b[0;34m.\u001b[0m\u001b[0menv\u001b[0m\u001b[0;34m)\u001b[0m\u001b[0;34m\u001b[0m\u001b[0;34m\u001b[0m\u001b[0m\n\u001b[0m\u001b[1;32m     80\u001b[0m \u001b[0;34m\u001b[0m\u001b[0m\n\u001b[1;32m     81\u001b[0m         \u001b[0;32massert\u001b[0m \u001b[0menv\u001b[0m \u001b[0;32mis\u001b[0m \u001b[0;32mnot\u001b[0m \u001b[0;32mNone\u001b[0m\u001b[0;34m,\u001b[0m \u001b[0;34m'Got a null execution context'\u001b[0m\u001b[0;34m\u001b[0m\u001b[0;34m\u001b[0m\u001b[0m\n",
      "\u001b[0;32m~/proj/metatab-dev/metapack-dev/metapack/src/metapack/doc.py\u001b[0m in \u001b[0;36menv\u001b[0;34m(self)\u001b[0m\n\u001b[1;32m    164\u001b[0m \u001b[0;34m\u001b[0m\u001b[0m\n\u001b[1;32m    165\u001b[0m         \u001b[0;32mtry\u001b[0m\u001b[0;34m:\u001b[0m\u001b[0;34m\u001b[0m\u001b[0;34m\u001b[0m\u001b[0m\n\u001b[0;32m--> 166\u001b[0;31m             \u001b[0mr\u001b[0m \u001b[0;34m=\u001b[0m \u001b[0mself\u001b[0m\u001b[0;34m.\u001b[0m\u001b[0mget_lib_module_dict\u001b[0m\u001b[0;34m(\u001b[0m\u001b[0;34m)\u001b[0m\u001b[0;34m\u001b[0m\u001b[0;34m\u001b[0m\u001b[0m\n\u001b[0m\u001b[1;32m    167\u001b[0m         \u001b[0;32mexcept\u001b[0m \u001b[0mImportError\u001b[0m\u001b[0;34m:\u001b[0m\u001b[0;34m\u001b[0m\u001b[0;34m\u001b[0m\u001b[0m\n\u001b[1;32m    168\u001b[0m             \u001b[0mr\u001b[0m \u001b[0;34m=\u001b[0m \u001b[0;34m{\u001b[0m\u001b[0;34m}\u001b[0m\u001b[0;34m\u001b[0m\u001b[0;34m\u001b[0m\u001b[0m\n",
      "\u001b[0;32m~/proj/metatab-dev/metapack-dev/metapack/src/metapack/doc.py\u001b[0m in \u001b[0;36mget_lib_module_dict\u001b[0;34m(self)\u001b[0m\n\u001b[1;32m    231\u001b[0m             \u001b[0;32mreturn\u001b[0m \u001b[0;34m{\u001b[0m\u001b[0;34m}\u001b[0m\u001b[0;34m\u001b[0m\u001b[0;34m\u001b[0m\u001b[0m\n\u001b[1;32m    232\u001b[0m \u001b[0;34m\u001b[0m\u001b[0m\n\u001b[0;32m--> 233\u001b[0;31m         \u001b[0;32massert\u001b[0m \u001b[0;32mFalse\u001b[0m\u001b[0;34m,\u001b[0m \u001b[0;34m\"SHould not get here\"\u001b[0m\u001b[0;34m\u001b[0m\u001b[0;34m\u001b[0m\u001b[0m\n\u001b[0m\u001b[1;32m    234\u001b[0m \u001b[0;34m\u001b[0m\u001b[0m\n\u001b[1;32m    235\u001b[0m     \u001b[0;32mdef\u001b[0m \u001b[0mresources\u001b[0m\u001b[0;34m(\u001b[0m\u001b[0mself\u001b[0m\u001b[0;34m,\u001b[0m \u001b[0mterm\u001b[0m\u001b[0;34m=\u001b[0m\u001b[0;34m'Root.Resource'\u001b[0m\u001b[0;34m,\u001b[0m \u001b[0msection\u001b[0m\u001b[0;34m=\u001b[0m\u001b[0;34m'Resources'\u001b[0m\u001b[0;34m)\u001b[0m\u001b[0;34m:\u001b[0m\u001b[0;34m\u001b[0m\u001b[0;34m\u001b[0m\u001b[0m\n",
      "\u001b[0;31mAssertionError\u001b[0m: SHould not get here"
     ]
    }
   ],
   "source": [
    "pkg.reference('naics_index_2007_26').dataframe()"
   ]
  },
  {
   "cell_type": "code",
   "execution_count": null,
   "metadata": {
    "jupyter": {
     "source_hidden": true
    },
    "tags": []
   },
   "outputs": [],
   "source": [
    "t = pkg.reference('naics_index_2007_26').dataframe()\n",
    "t.columns = ['seq','naics_code','naics_desc','a','b','c']\n",
    "naics = t\n",
    "\n",
    "def int_maybe(v):\n",
    "    try:\n",
    "        return int(v)\n",
    "    except:\n",
    "        return v\n",
    "\n",
    "naics_map = { int_maybe(r.naics_code):r.naics_desc for idx, r in naics.iterrows()}"
   ]
  },
  {
   "cell_type": "code",
   "execution_count": null,
   "metadata": {},
   "outputs": [],
   "source": [
    "sd_county = pkg.reference('sd_county_boundary').geoframe()\n",
    "bs = pkg.reference('business_sites').geoframe()\n",
    "bc = pkg.reference('business_clusters').geoframe()"
   ]
  },
  {
   "cell_type": "code",
   "execution_count": null,
   "metadata": {},
   "outputs": [],
   "source": [
    "sdb_ak = pkg.reference('sd_businesses_ak').dataframe()\n",
    "sdb_lz = pkg.reference('sd_businesses_lz').dataframe()\n",
    "\n",
    "sdb = pd.concat([sdb_ak, sdb_lz])\n",
    "sb_mbl = sdb # The name in the metadata\n",
    "sdb.head()"
   ]
  },
  {
   "cell_type": "code",
   "execution_count": null,
   "metadata": {},
   "outputs": [],
   "source": [
    "nl = pd.DataFrame( {\n",
    "    'account' :sb_mbl['BUSINESS ACCT#'],\n",
    "    'naics'   :sb_mbl['NAICS'],\n",
    "    'naics_2' :sb_mbl['NAICS'].astype(str).str.slice(0,2),\n",
    "    'naics_3' :sb_mbl['NAICS'].astype(str).str.slice(0,3),\n",
    "    'naics_4' :sb_mbl['NAICS'].astype(str).str.slice(0,4),\n",
    "    'naics_5' :sb_mbl['NAICS'].astype(str).str.slice(0,5),\n",
    "    'naics_6' :sb_mbl['NAICS'].astype(str).str.slice(0,6),\n",
    "})\n",
    "\n",
    "for c in nl.columns[1:]:\n",
    "    dc = c+\"_desc\"\n",
    "    nl[dc] = nl[c].apply(lambda v: naics_map.get(int_maybe(v)) )\n",
    "\n",
    "naics = nl"
   ]
  },
  {
   "cell_type": "code",
   "execution_count": null,
   "metadata": {},
   "outputs": [],
   "source": [
    "naics_map.get(72241)"
   ]
  },
  {
   "cell_type": "code",
   "execution_count": null,
   "metadata": {},
   "outputs": [],
   "source": [
    "t  = gpd.sjoin(bc, sd_county)\n",
    "sd_business_clusters = t[['cluster_n','geometry']]"
   ]
  },
  {
   "cell_type": "code",
   "execution_count": null,
   "metadata": {},
   "outputs": [],
   "source": [
    "#http://barker:4000/v1/search?text=1370%20Wilbur,%20San%20Diego,%20CA\n",
    "import requests\n",
    "import urllib.parse\n",
    "import hashlib \n",
    "from demosearch.util import run_mp\n",
    "def geocode(cache, text):\n",
    "    \n",
    "    text_enc = urllib.parse.quote_plus(text)\n",
    "    text_h = hashlib.sha224(text_enc.encode('utf8')).hexdigest()\n",
    "    \n",
    "    key = f\"geocode/{text_h[0:2]}/{text_h[2:4]}/{text_h}\"\n",
    "    \n",
    "    if cache.exists(key):\n",
    "        return cache.get(key)\n",
    "    else:\n",
    "        r = requests.get('http://barker:4000/v1/search?text='+text_enc)\n",
    "        r.raise_for_status()\n",
    "        j = r.json()\n",
    "        \n",
    "        cache.put(key, j)\n",
    "        return j\n",
    "    \n",
    "def geocode_chunk(cache, frame_key):\n",
    "    from time import sleep\n",
    "    from random import uniform\n",
    "    \n",
    "        \n",
    "    df = cache.get(frame_key)\n",
    "    results = []\n",
    "    for idx, row in df.iterrows():\n",
    "        addr = f\"{row.ADDRESS} {row.CITY} {row.ZIP}, {row.STATE}\"\n",
    "    \n",
    "        sleep_time = 1\n",
    "        for i in range(3):\n",
    "    \n",
    "            try:\n",
    "                j = geocode(cache, addr)\n",
    "                r = j['features'][0]['geometry']\n",
    "            except IndexError as e:\n",
    "                \n",
    "                break\n",
    "            except Exception as e:\n",
    "                if e.response is not None and e.response.status_code == 400:\n",
    "                    print(\"Timeout: Iter\",i,' sleep', sleep_time, e)\n",
    "                    sleep(sleep_time+uniform(0,3))\n",
    "                    sleep_time *= 2\n",
    "                       \n",
    "                else:\n",
    "                    r = e\n",
    "                    break\n",
    "            \n",
    "        results.append( (row['BUSINESS ACCT#'], addr, r))\n",
    "\n",
    "    return results\n",
    "\n",
    "chunk_size = int(len(sdb)/100)\n",
    "\n",
    "\n",
    "frames = [sdb[i:i+chunk_size] for i in range(0,sdb.shape[0],chunk_size)]\n",
    "tasks = []\n",
    "for i, f in enumerate(frames):\n",
    "    key =  f'chunks/{i}'\n",
    "    \n",
    "    cache.put_df(key, f)\n",
    "    tasks.append( (cache, key))\n",
    "\n",
    "print(\"Start MP run\")\n",
    "r = run_mp(geocode_chunk, tasks, n_cpu=4)\n",
    "\n",
    "from itertools import chain\n",
    "import geopandas as gpd\n",
    "rows = [ (e[0],e[1],e[2]['coordinates'][1], e[2]['coordinates'][0]) for e in list(chain(*r))]\n",
    "\n",
    "gcodes = pd.DataFrame(rows, columns='account gc_address lat lon'.split())\n",
    "gcodes['geometry'] = gpd.points_from_xy(gcodes.lon, gcodes.lat)\n",
    "gcodes = gpd.GeoDataFrame(gcodes, crs=4326)\n",
    "\n",
    "t = gcodes.merge(sdb, left_on='account', right_on='BUSINESS ACCT#')\n",
    "t  = gpd.sjoin(t, sd_county)"
   ]
  },
  {
   "cell_type": "code",
   "execution_count": null,
   "metadata": {},
   "outputs": [],
   "source": [
    "cols = ['account', 'gc_address', 'lat', 'lon',  'DBA NAME', 'OWNERSHIP TYPE',\n",
    "         'CREATION DT', 'START DT', 'EXP DT', 'OWNER NAME','NAICS', 'ACTIVITY DESC', 'geometry']\n",
    "sd_businesses = t[cols]"
   ]
  },
  {
   "cell_type": "code",
   "execution_count": null,
   "metadata": {},
   "outputs": [],
   "source": [
    "blocks = pkg.reference('census_bg').geoframe()\n",
    "pop =  pkg.reference('total_population').dataframe()\n",
    "t = blocks.merge(pop.reset_index())\n",
    "cols = ['geoid',  'aland','b01003_001', 'intptlat', 'intptlon', 'geometry']\n",
    "blocks = t[cols].rename(columns={'b01003_001':'pop', \"aland\":'area'}).to_crs(4326)\n"
   ]
  },
  {
   "cell_type": "code",
   "execution_count": null,
   "metadata": {},
   "outputs": [],
   "source": [
    "# Merge blockgroup population into sd_businesses\n",
    "from geoid.censusnames import stusab\n",
    "import rowgenerators as rg\n",
    "\n",
    "\n",
    "t = gpd.sjoin(sd_businesses, blocks)\n",
    "sd_businesses = t[list(sd_businesses.columns) + ['geoid','pop', 'area']]\n",
    "\n",
    "sd_businesses.head()"
   ]
  },
  {
   "cell_type": "code",
   "execution_count": null,
   "metadata": {},
   "outputs": [],
   "source": [
    "t = gpd.sjoin(sd_businesses, sd_business_clusters, how='left')\n",
    "cols = ['account', 'gc_address', 'lat', 'lon', 'geoid', 'pop', 'area', 'DBA NAME', 'OWNERSHIP TYPE',\n",
    "         'CREATION DT', 'START DT', 'EXP DT', 'OWNER NAME','NAICS', 'ACTIVITY DESC', \n",
    "        'cluster_n','geometry']\n",
    "t['cluster_n'] = t.cluster_n.fillna(0)\n",
    "sd_custered_businesses = t[cols]\n"
   ]
  },
  {
   "cell_type": "code",
   "execution_count": null,
   "metadata": {},
   "outputs": [],
   "source": [
    "bid = pkg.reference('bid').geoframe().to_crs(4326)\n",
    "bid = bid[['NAME2','SYMBOL', 'geometry']].rename(columns={'NAME2':'bid_name','SYMBOL':'bid_code'})\n",
    "bid.plot(column='bid_name')\n"
   ]
  },
  {
   "cell_type": "code",
   "execution_count": null,
   "metadata": {},
   "outputs": [],
   "source": [
    "t = gpd.sjoin(sd_custered_businesses, bid, how='left').drop(columns=['index_right'])\n",
    "sd_custered_businesses = t[ [c for c in t.columns if c != 'geometry'] + ['geometry']]"
   ]
  },
  {
   "cell_type": "code",
   "execution_count": null,
   "metadata": {},
   "outputs": [],
   "source": [
    "sd_custered_businesses.head().T"
   ]
  },
  {
   "cell_type": "code",
   "execution_count": null,
   "metadata": {},
   "outputs": [],
   "source": [
    "!pwd\n"
   ]
  },
  {
   "cell_type": "code",
   "execution_count": null,
   "metadata": {},
   "outputs": [],
   "source": []
  }
 ],
 "metadata": {
  "kernelspec": {
   "display_name": "Python 3",
   "language": "python",
   "name": "python3"
  },
  "language_info": {
   "codemirror_mode": {
    "name": "ipython",
    "version": 3
   },
   "file_extension": ".py",
   "mimetype": "text/x-python",
   "name": "python",
   "nbconvert_exporter": "python",
   "pygments_lexer": "ipython3",
   "version": "3.8.8"
  }
 },
 "nbformat": 4,
 "nbformat_minor": 4
}
