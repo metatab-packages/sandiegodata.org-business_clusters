{
 "cells": [
  {
   "cell_type": "code",
   "execution_count": 3,
   "metadata": {},
   "outputs": [],
   "source": [
    "\n",
    "import seaborn as sns\n",
    "import metapack as mp\n",
    "import pandas as pd\n",
    "import geopandas as gpd\n",
    "import numpy as np\n",
    "import matplotlib.pyplot as plt\n",
    "from IPython.display import display \n",
    "\n",
    "from demosearch import FileCache\n",
    "from pathlib import Path\n",
    "\n",
    "%matplotlib inline\n",
    "sns.set_context('notebook')\n",
    "mp.jupyter.init()"
   ]
  },
  {
   "cell_type": "code",
   "execution_count": 4,
   "metadata": {},
   "outputs": [
    {
     "data": {
      "text/html": [
       "<h1>San Diego Business Clusters</h1>\n",
       "<p><code>sandiegodata.org-business_clusters-1.3.3</code> Last Update: 2021-03-26T16:01:10</p>\n",
       "<p><em>Business in San Diego linked to entertainment clusters and population density.</em></p>\n",
       "<p>This dataset processes the City of San Diego Master Business file to add\n",
       "geocoded addresses and links to business clusters. San Diego publishes two\n",
       "lists of businesses, which are based on payment of the San Diego City business\n",
       "tax: the Master Business File, and a <a href=\"https://data.sandiegodata.org/dataset/sangis-org-business-sites/\">SANGIS file that includes geographic\n",
       "information.\n",
       "</a> Unfortunatel\n",
       "y, these files are quite different and cannot be linked. The SANGIS file is\n",
       "oriented toward the tax assessors parcel that the business occupies, and the\n",
       "Master Business List has account numbers and addresses, but there is no common\n",
       "key between the files.</p>\n",
       "<p>The files in this package add address geocodes to the Master Business List, and\n",
       "links the businesses to clusters of businesses. The Clusters are created by\n",
       "collecting nearby businesses from Open Street Map data. The cluster types are:</p>\n",
       "<ul>\n",
       "<li>NA: No cluster, 31787 businesses</li>\n",
       "<li>shop: OSM tags 'shop', 'clothes', 'supermarket', 'bank', 'laundry', 'parking',  14615 businesses</li>\n",
       "<li>ent: Entertainment, OSM tags 'cafe', 'restaurant', 'bar', 14320 businesses</li>\n",
       "<li>casual: Fast food and convenience stores, OSM tags  'fast_food', 'convenience', 10991 businesses</li>\n",
       "</ul>\n",
       "<p>The <code>sd_business_clusters</code> file has the clusters and their WKT geographies.\n",
       "The <code>sd_custered_businesses</code> links San Diego businesses to clusters, and a\n",
       "single business may be in more than one cluster because the clusters of\n",
       "different types overlap. The <code>sd_ucustered_businesses</code> has the businesses deduplicated, with a business that is in multiple clusters taking only one cluster, in this order, from highest to lowest preference: 'ent', 'shop', 'casual','NA'</p>\n",
       "<h2>NAICS Codes</h2>\n",
       "<p>It appears that the  NAICS codes used in the Master Business List are vintage 2007. The code '72221' appears frequently, which is valid in 2007 NAICS, but not in 2012 or 2016 NAICS. </p>\n",
       "<h2>Geocoding</h2>\n",
       "<p>The geocoding was performed with a local installation of Pelias. There are some notable errors in the geocoding. For instance, Ba Ho Liquor and Deli, with address of '4031 AVATI DR SUITE I SAN DIEGO 92117-4403, CA', was geocoded to 4144 Avati, moving the location from a neighborhood mini-mall to a residence. It is unknown how many such error there are, so use the geocodes with caution.</p>\n",
       "<h2>Contacts</h2>\n",
       "<ul>\n",
       "<li><strong>Wrangler</strong> <a href=\"mailto:eric@civicknowledge.com\">Eric Busboom</a>, <a href=\"http://civicknowledge.com\">Civic Knowledge</a></li>\n",
       "</ul>\n",
       "<h2>Resources</h2>\n",
       "<ul>\n",
       "<li><strong> <a href=\"notebooks/Extract.ipynb#sb_mbl\">sb_mbl</a></strong>. Businesses registered in San DIego, from the Master BusinessList</li>\n",
       "<li><strong> <a href=\"notebooks/Extract.ipynb#sd_business_clusters\">sd_business_clusters</a></strong>. Geographic boundaries of business clusters</li>\n",
       "<li><strong> <a href=\"notebooks/Extract.ipynb#sd_businesses\">sd_businesses</a></strong>. San Diego Businesses, geocoded</li>\n",
       "<li><strong> <a href=\"notebooks/Extract.ipynb#sd_custered_businesses\">sd_clustered_businesses</a></strong>. San Diego Businesses, geocodes and linked to clusters. Businesses in multiple clusters are duplicated</li>\n",
       "<li><strong> <a href=\"notebooks/Extract.ipynb#naics\">naics</a></strong>. Naics codes for San Diego businesses</li>\n",
       "<li><strong> <a href=\"notebooks/Extract.ipynb#blocks\">blockgroups</a></strong>. Geo data for census block groups and total population</li>\n",
       "<li><strong> <a href=\"notebooks/Extract.ipynb#bid\">bid</a></strong>. San Diego Business Improvement Districts</li>\n",
       "</ul>\n",
       "<h2>References</h2>\n",
       "<ul><li> <strong>business_clusters</string>, <em>index:civicknowledge.com-osm-demosearch-2.1.1#business_clusters</em>. US business clusters</li><li> <strong><a href=\"https://www.sandiego.gov/sites/default/files/tr_active1.csv\">sd_businesses_ak</a></strong>. San Diego Businesses A-K</li><li> <strong><a href=\"https://www.sandiego.gov/sites/default/files/tr_active2.csv\">sd_businesses_lz</a></strong>. San Diego Businesses L-Z</li><li> <strong>business_sites</string>, <em>metapack+http://library.metatab.org/sangis.org-business_sites.csv#business_sites</em>. San DIego Business locations, from SANGIS</li><li> <strong>sd_county_boundary</string>, <em>metapack+http://library.metatab.org/sandiegodata.org-geography-2018-13.csv#sd_county_boundary</em>. San Diego County Geo boundry</li><li> <strong><a href=\"https://www.census.gov/naics/2007NAICS/2007_NAICS_Index_File.xls\">naics_index_2007</a></strong>. NAICS index file, 2007.</li><li> <strong><a href=\"https://www.census.gov/naics/2017NAICS/2-6%20digit_2017_Codes.xlsx\">naics_index_2007_26</a></strong>. NAICS index file, 2007, 2 to 6 digit codes</li><li> <strong>census_bg</string>, <em>censusgeo://2019/5/CA/blockgroup</em>. CA Census Blocks</li><li> <strong>total_population</string>, <em>census://2018/5/CA/blockgroup/B01003</em>. Total population by blocks (2018 b/c download errors in 2019(</li><li> <strong>bez</string>, <em>shape+file:data/Business_Enterprise_Zones_SD.ZIP</em>. Business district from SANGIS</li><li> <strong>bid</string>, <em>shape+file:data/Business_Improvement_Districts_SD.ZIP</em>. Business district from SANGIS</li><li> <strong>brez</string>, <em>shape+file:data/Business_Regional_Enterprise_Zones_SD.zip</em>. Business district from SANGIS</li><li> <strong>btea</string>, <em>shape+file:data/Business_Targeted_Employment_Areas_SD.ZIP</em>. Business district from SANGIS</li><li> <strong>promise</string>, <em>shape+file:data/Promise_Zone_SD.zip</em>. Business district from SANGIS</li><li> <strong>pbid</string>, <em>shape+file:data/Property_Based_Improvement_Districts_SD.ZIP</em>. Business district from SANGIS</li><ul>"
      ],
      "text/plain": [
       "# San Diego Business Clusters\n",
       "`sandiegodata.org-business_clusters-1.3.3` Last Update: 2021-03-26T16:01:10\n",
       "\n",
       "_Business in San Diego linked to entertainment clusters and population density._\n",
       "\n",
       "\n",
       "This dataset processes the City of San Diego Master Business file to add\n",
       "geocoded addresses and links to business clusters. San Diego publishes two\n",
       "lists of businesses, which are based on payment of the San Diego City business\n",
       "tax: the Master Business File, and a [SANGIS file that includes geographic\n",
       "information.\n",
       "](https://data.sandiegodata.org/dataset/sangis-org-business-sites/) Unfortunatel\n",
       "y, these files are quite different and cannot be linked. The SANGIS file is\n",
       "oriented toward the tax assessors parcel that the business occupies, and the\n",
       "Master Business List has account numbers and addresses, but there is no common\n",
       "key between the files.\n",
       "\n",
       "The files in this package add address geocodes to the Master Business List, and\n",
       "links the businesses to clusters of businesses. The Clusters are created by\n",
       "collecting nearby businesses from Open Street Map data. The cluster types are:\n",
       "\n",
       "* NA: No cluster, 31787 businesses\n",
       "* shop: OSM tags 'shop', 'clothes', 'supermarket', 'bank', 'laundry', 'parking',  14615 businesses\n",
       "* ent: Entertainment, OSM tags 'cafe', 'restaurant', 'bar', 14320 businesses\n",
       "* casual: Fast food and convenience stores, OSM tags  'fast_food', 'convenience', 10991 businesses\n",
       "\n",
       "The ``sd_business_clusters`` file has the clusters and their WKT geographies.\n",
       "The ``sd_custered_businesses`` links San Diego businesses to clusters, and a\n",
       "single business may be in more than one cluster because the clusters of\n",
       "different types overlap. The `sd_ucustered_businesses` has the businesses deduplicated, with a business that is in multiple clusters taking only one cluster, in this order, from highest to lowest preference: 'ent', 'shop', 'casual','NA'\n",
       "\n",
       "## NAICS Codes\n",
       "\n",
       "It appears that the  NAICS codes used in the Master Business List are vintage 2007. The code '72221' appears frequently, which is valid in 2007 NAICS, but not in 2012 or 2016 NAICS. \n",
       "\n",
       "## Geocoding\n",
       "\n",
       "The geocoding was performed with a local installation of Pelias. There are some notable errors in the geocoding. For instance, Ba Ho Liquor and Deli, with address of '4031 AVATI DR SUITE I SAN DIEGO 92117-4403, CA', was geocoded to 4144 Avati, moving the location from a neighborhood mini-mall to a residence. It is unknown how many such error there are, so use the geocodes with caution.\n",
       "\n",
       "\n",
       " \n",
       "\n",
       "## Contacts\n",
       "\n",
       "* **Wrangler** [Eric Busboom](mailto:eric@civicknowledge.com), [Civic Knowledge](http://civicknowledge.com)\n",
       "\n",
       "## Resources\n",
       "\n",
       "* ** [sb_mbl](notebooks/Extract.ipynb#sb_mbl)**. Businesses registered in San DIego, from the Master BusinessList\n",
       "* ** [sd_business_clusters](notebooks/Extract.ipynb#sd_business_clusters)**. Geographic boundaries of business clusters\n",
       "* ** [sd_businesses](notebooks/Extract.ipynb#sd_businesses)**. San Diego Businesses, geocoded\n",
       "* ** [sd_clustered_businesses](notebooks/Extract.ipynb#sd_custered_businesses)**. San Diego Businesses, geocodes and linked to clusters. Businesses in multiple clusters are duplicated\n",
       "* ** [naics](notebooks/Extract.ipynb#naics)**. Naics codes for San Diego businesses\n",
       "* ** [blockgroups](notebooks/Extract.ipynb#blocks)**. Geo data for census block groups and total population\n",
       "* ** [bid](notebooks/Extract.ipynb#bid)**. San Diego Business Improvement Districts\n",
       "\n",
       "## References\n",
       "<ul><li> <strong>business_clusters</string>, <em>index:civicknowledge.com-osm-demosearch-2.1.1#business_clusters</em>. US business clusters</li><li> <strong><a href=\"https://www.sandiego.gov/sites/default/files/tr_active1.csv\">sd_businesses_ak</a></strong>. San Diego Businesses A-K</li><li> <strong><a href=\"https://www.sandiego.gov/sites/default/files/tr_active2.csv\">sd_businesses_lz</a></strong>. San Diego Businesses L-Z</li><li> <strong>business_sites</string>, <em>metapack+http://library.metatab.org/sangis.org-business_sites.csv#business_sites</em>. San DIego Business locations, from SANGIS</li><li> <strong>sd_county_boundary</string>, <em>metapack+http://library.metatab.org/sandiegodata.org-geography-2018-13.csv#sd_county_boundary</em>. San Diego County Geo boundry</li><li> <strong><a href=\"https://www.census.gov/naics/2007NAICS/2007_NAICS_Index_File.xls\">naics_index_2007</a></strong>. NAICS index file, 2007.</li><li> <strong><a href=\"https://www.census.gov/naics/2017NAICS/2-6%20digit_2017_Codes.xlsx\">naics_index_2007_26</a></strong>. NAICS index file, 2007, 2 to 6 digit codes</li><li> <strong>census_bg</string>, <em>censusgeo://2019/5/CA/blockgroup</em>. CA Census Blocks</li><li> <strong>total_population</string>, <em>census://2018/5/CA/blockgroup/B01003</em>. Total population by blocks (2018 b/c download errors in 2019(</li><li> <strong>bez</string>, <em>shape+file:data/Business_Enterprise_Zones_SD.ZIP</em>. Business district from SANGIS</li><li> <strong>bid</string>, <em>shape+file:data/Business_Improvement_Districts_SD.ZIP</em>. Business district from SANGIS</li><li> <strong>brez</string>, <em>shape+file:data/Business_Regional_Enterprise_Zones_SD.zip</em>. Business district from SANGIS</li><li> <strong>btea</string>, <em>shape+file:data/Business_Targeted_Employment_Areas_SD.ZIP</em>. Business district from SANGIS</li><li> <strong>promise</string>, <em>shape+file:data/Promise_Zone_SD.zip</em>. Business district from SANGIS</li><li> <strong>pbid</string>, <em>shape+file:data/Property_Based_Improvement_Districts_SD.ZIP</em>. Business district from SANGIS</li><ul>\n"
      ]
     },
     "execution_count": 4,
     "metadata": {},
     "output_type": "execute_result"
    }
   ],
   "source": [
    "#pkg = mp.jupyter.open_package()\n",
    "pkg = mp.jupyter.open_source_package()\n",
    "\n",
    "pkg_root = Path(pkg.path).parent\n",
    "cache = FileCache(pkg_root.joinpath('data/cache'))\n",
    "\n",
    "pkg"
   ]
  },
  {
   "cell_type": "code",
   "execution_count": 3,
   "metadata": {},
   "outputs": [
    {
     "data": {
      "text/html": [
       "<div>\n",
       "<style scoped>\n",
       "    .dataframe tbody tr th:only-of-type {\n",
       "        vertical-align: middle;\n",
       "    }\n",
       "\n",
       "    .dataframe tbody tr th {\n",
       "        vertical-align: top;\n",
       "    }\n",
       "\n",
       "    .dataframe thead th {\n",
       "        text-align: right;\n",
       "    }\n",
       "</style>\n",
       "<table border=\"1\" class=\"dataframe\">\n",
       "  <thead>\n",
       "    <tr style=\"text-align: right;\">\n",
       "      <th></th>\n",
       "      <th>Seq. No.</th>\n",
       "      <th>2017 NAICS US   Code</th>\n",
       "      <th>2017 NAICS US Title</th>\n",
       "      <th></th>\n",
       "      <th></th>\n",
       "      <th></th>\n",
       "    </tr>\n",
       "  </thead>\n",
       "  <tbody>\n",
       "    <tr>\n",
       "      <th>0</th>\n",
       "      <td></td>\n",
       "      <td></td>\n",
       "      <td></td>\n",
       "      <td></td>\n",
       "      <td></td>\n",
       "      <td></td>\n",
       "    </tr>\n",
       "    <tr>\n",
       "      <th>1</th>\n",
       "      <td>1.0</td>\n",
       "      <td>11.0</td>\n",
       "      <td>Agriculture, Forestry, Fishing and Hunting</td>\n",
       "      <td></td>\n",
       "      <td></td>\n",
       "      <td></td>\n",
       "    </tr>\n",
       "    <tr>\n",
       "      <th>2</th>\n",
       "      <td>2.0</td>\n",
       "      <td>111.0</td>\n",
       "      <td>Crop Production</td>\n",
       "      <td></td>\n",
       "      <td></td>\n",
       "      <td></td>\n",
       "    </tr>\n",
       "    <tr>\n",
       "      <th>3</th>\n",
       "      <td>3.0</td>\n",
       "      <td>1111.0</td>\n",
       "      <td>Oilseed and Grain Farming</td>\n",
       "      <td></td>\n",
       "      <td></td>\n",
       "      <td></td>\n",
       "    </tr>\n",
       "    <tr>\n",
       "      <th>4</th>\n",
       "      <td>4.0</td>\n",
       "      <td>11111.0</td>\n",
       "      <td>Soybean Farming</td>\n",
       "      <td></td>\n",
       "      <td></td>\n",
       "      <td></td>\n",
       "    </tr>\n",
       "    <tr>\n",
       "      <th>...</th>\n",
       "      <td>...</td>\n",
       "      <td>...</td>\n",
       "      <td>...</td>\n",
       "      <td>...</td>\n",
       "      <td>...</td>\n",
       "      <td>...</td>\n",
       "    </tr>\n",
       "    <tr>\n",
       "      <th>2192</th>\n",
       "      <td>2192.0</td>\n",
       "      <td>9281.0</td>\n",
       "      <td>National Security and International Affairs</td>\n",
       "      <td></td>\n",
       "      <td></td>\n",
       "      <td></td>\n",
       "    </tr>\n",
       "    <tr>\n",
       "      <th>2193</th>\n",
       "      <td>2193.0</td>\n",
       "      <td>92811.0</td>\n",
       "      <td>National Security</td>\n",
       "      <td></td>\n",
       "      <td></td>\n",
       "      <td></td>\n",
       "    </tr>\n",
       "    <tr>\n",
       "      <th>2194</th>\n",
       "      <td>2194.0</td>\n",
       "      <td>928110.0</td>\n",
       "      <td>National Security</td>\n",
       "      <td></td>\n",
       "      <td></td>\n",
       "      <td></td>\n",
       "    </tr>\n",
       "    <tr>\n",
       "      <th>2195</th>\n",
       "      <td>2195.0</td>\n",
       "      <td>92812.0</td>\n",
       "      <td>International Affairs</td>\n",
       "      <td></td>\n",
       "      <td></td>\n",
       "      <td></td>\n",
       "    </tr>\n",
       "    <tr>\n",
       "      <th>2196</th>\n",
       "      <td>2196.0</td>\n",
       "      <td>928120.0</td>\n",
       "      <td>International Affairs</td>\n",
       "      <td></td>\n",
       "      <td></td>\n",
       "      <td></td>\n",
       "    </tr>\n",
       "  </tbody>\n",
       "</table>\n",
       "<p>2197 rows × 6 columns</p>\n",
       "</div>"
      ],
      "text/plain": [
       "     Seq. No. 2017 NAICS US   Code  \\\n",
       "0                                    \n",
       "1         1.0                 11.0   \n",
       "2         2.0                111.0   \n",
       "3         3.0               1111.0   \n",
       "4         4.0              11111.0   \n",
       "...       ...                  ...   \n",
       "2192   2192.0               9281.0   \n",
       "2193   2193.0              92811.0   \n",
       "2194   2194.0             928110.0   \n",
       "2195   2195.0              92812.0   \n",
       "2196   2196.0             928120.0   \n",
       "\n",
       "                               2017 NAICS US Title           \n",
       "0                                                            \n",
       "1       Agriculture, Forestry, Fishing and Hunting           \n",
       "2                                  Crop Production           \n",
       "3                        Oilseed and Grain Farming           \n",
       "4                                  Soybean Farming           \n",
       "...                                            ... .. .. ..  \n",
       "2192  National Security and International Affairs            \n",
       "2193                            National Security            \n",
       "2194                            National Security            \n",
       "2195                        International Affairs            \n",
       "2196                        International Affairs            \n",
       "\n",
       "[2197 rows x 6 columns]"
      ]
     },
     "execution_count": 3,
     "metadata": {},
     "output_type": "execute_result"
    }
   ],
   "source": [
    "pkg.reference('naics_index_2007_26').dataframe()"
   ]
  },
  {
   "cell_type": "code",
   "execution_count": 4,
   "metadata": {
    "tags": []
   },
   "outputs": [],
   "source": [
    "t = pkg.reference('naics_index_2007_26').dataframe()\n",
    "t.columns = ['seq','naics_code','naics_desc','a','b','c']\n",
    "naics = t\n",
    "\n",
    "def int_maybe(v):\n",
    "    try:\n",
    "        return int(v)\n",
    "    except:\n",
    "        return v\n",
    "\n",
    "naics_map = { int_maybe(r.naics_code):r.naics_desc for idx, r in naics.iterrows()}"
   ]
  },
  {
   "cell_type": "code",
   "execution_count": 5,
   "metadata": {},
   "outputs": [],
   "source": [
    "sd_county = pkg.reference('sd_county_boundary').geoframe()\n",
    "bs = pkg.reference('business_sites').geoframe()\n",
    "bc = pkg.reference('business_clusters').geoframe()"
   ]
  },
  {
   "cell_type": "code",
   "execution_count": 6,
   "metadata": {},
   "outputs": [
    {
     "data": {
      "text/html": [
       "<div>\n",
       "<style scoped>\n",
       "    .dataframe tbody tr th:only-of-type {\n",
       "        vertical-align: middle;\n",
       "    }\n",
       "\n",
       "    .dataframe tbody tr th {\n",
       "        vertical-align: top;\n",
       "    }\n",
       "\n",
       "    .dataframe thead th {\n",
       "        text-align: right;\n",
       "    }\n",
       "</style>\n",
       "<table border=\"1\" class=\"dataframe\">\n",
       "  <thead>\n",
       "    <tr style=\"text-align: right;\">\n",
       "      <th></th>\n",
       "      <th>BUSINESS ACCT#</th>\n",
       "      <th>DBA NAME</th>\n",
       "      <th>OWNERSHIP TYPE</th>\n",
       "      <th>ADDRESS</th>\n",
       "      <th>CITY</th>\n",
       "      <th>ZIP</th>\n",
       "      <th>STATE</th>\n",
       "      <th>BUSINESS PHONE</th>\n",
       "      <th>OWNER NAME</th>\n",
       "      <th>CREATION DT</th>\n",
       "      <th>START DT</th>\n",
       "      <th>EXP DT</th>\n",
       "      <th>NAICS</th>\n",
       "      <th>ACTIVITY DESC</th>\n",
       "    </tr>\n",
       "  </thead>\n",
       "  <tbody>\n",
       "    <tr>\n",
       "      <th>0</th>\n",
       "      <td>2020002344</td>\n",
       "      <td>#0205</td>\n",
       "      <td>LLC</td>\n",
       "      <td>4704 IMPERIAL AVE</td>\n",
       "      <td>SAN DIEGO</td>\n",
       "      <td>92113-5001</td>\n",
       "      <td>CA</td>\n",
       "      <td>(619) 436-5006</td>\n",
       "      <td>CF UNITED CVX HOLDINGS LLC</td>\n",
       "      <td>02/07/2020</td>\n",
       "      <td>11/14/2019</td>\n",
       "      <td>11/30/2021</td>\n",
       "      <td>44711</td>\n",
       "      <td>GASOLINE STATIONS WITH CONVENIENCE STORES</td>\n",
       "    </tr>\n",
       "    <tr>\n",
       "      <th>1</th>\n",
       "      <td>2019021709</td>\n",
       "      <td>#1 FIFTH AVE</td>\n",
       "      <td>LLC</td>\n",
       "      <td>3845 05TH AVE</td>\n",
       "      <td>SAN DIEGO</td>\n",
       "      <td>92103-3140</td>\n",
       "      <td>CA</td>\n",
       "      <td>(619) 299-1911</td>\n",
       "      <td>ICONIC BAR INVESTMENTS LLC</td>\n",
       "      <td>10/15/2019</td>\n",
       "      <td>10/11/2019</td>\n",
       "      <td>10/31/2021</td>\n",
       "      <td>72241</td>\n",
       "      <td>DRINKING PLACES (ALCOHOLIC BEVERAGES)</td>\n",
       "    </tr>\n",
       "    <tr>\n",
       "      <th>2</th>\n",
       "      <td>2019010605</td>\n",
       "      <td>#OOHMAMAMACARONS</td>\n",
       "      <td>SOLE</td>\n",
       "      <td>515 S SAN JACINTO DR</td>\n",
       "      <td>SAN DIEGO</td>\n",
       "      <td>92114-5331</td>\n",
       "      <td>CA</td>\n",
       "      <td>NaN</td>\n",
       "      <td>YESENIA RAMIREZ</td>\n",
       "      <td>05/17/2019</td>\n",
       "      <td>05/16/2019</td>\n",
       "      <td>05/31/2021</td>\n",
       "      <td>72234</td>\n",
       "      <td>COTTAGE FOOD OPERATOR</td>\n",
       "    </tr>\n",
       "    <tr>\n",
       "      <th>3</th>\n",
       "      <td>2015046247</td>\n",
       "      <td>&amp; SALLY J FERNANDEZ</td>\n",
       "      <td>SOLE</td>\n",
       "      <td>17471 PLAZA CERADO SUITE 98</td>\n",
       "      <td>SAN DIEGO</td>\n",
       "      <td>92128-2285</td>\n",
       "      <td>CA</td>\n",
       "      <td>NaN</td>\n",
       "      <td>JAIME V FERNANDEZ</td>\n",
       "      <td>10/29/2015</td>\n",
       "      <td>01/01/2014</td>\n",
       "      <td>12/31/2021</td>\n",
       "      <td>541219</td>\n",
       "      <td>OTHER ACCOUNTING SERVICES</td>\n",
       "    </tr>\n",
       "    <tr>\n",
       "      <th>4</th>\n",
       "      <td>2018011836</td>\n",
       "      <td>(W)RIGHT ON COMMUNICATIONS INC</td>\n",
       "      <td>SCORP</td>\n",
       "      <td>1200 PROSPECT ST SUITE G100</td>\n",
       "      <td>LA JOLLA</td>\n",
       "      <td>92037-3608</td>\n",
       "      <td>CA</td>\n",
       "      <td>(858) 866-7900</td>\n",
       "      <td>(W)RIGHT ON COMMUNICATIONS INC</td>\n",
       "      <td>06/22/2018</td>\n",
       "      <td>06/01/2018</td>\n",
       "      <td>05/31/2021</td>\n",
       "      <td>54182</td>\n",
       "      <td>PUBLIC RELATIONS AGENCIES</td>\n",
       "    </tr>\n",
       "  </tbody>\n",
       "</table>\n",
       "</div>"
      ],
      "text/plain": [
       "   BUSINESS ACCT#                        DBA NAME OWNERSHIP TYPE  \\\n",
       "0      2020002344                           #0205            LLC   \n",
       "1      2019021709                    #1 FIFTH AVE            LLC   \n",
       "2      2019010605                #OOHMAMAMACARONS           SOLE   \n",
       "3      2015046247             & SALLY J FERNANDEZ           SOLE   \n",
       "4      2018011836  (W)RIGHT ON COMMUNICATIONS INC          SCORP   \n",
       "\n",
       "                       ADDRESS       CITY         ZIP STATE  BUSINESS PHONE  \\\n",
       "0            4704 IMPERIAL AVE  SAN DIEGO  92113-5001    CA  (619) 436-5006   \n",
       "1                3845 05TH AVE  SAN DIEGO  92103-3140    CA  (619) 299-1911   \n",
       "2         515 S SAN JACINTO DR  SAN DIEGO  92114-5331    CA             NaN   \n",
       "3  17471 PLAZA CERADO SUITE 98  SAN DIEGO  92128-2285    CA             NaN   \n",
       "4  1200 PROSPECT ST SUITE G100   LA JOLLA  92037-3608    CA  (858) 866-7900   \n",
       "\n",
       "                       OWNER NAME CREATION DT    START DT      EXP DT   NAICS  \\\n",
       "0      CF UNITED CVX HOLDINGS LLC  02/07/2020  11/14/2019  11/30/2021   44711   \n",
       "1      ICONIC BAR INVESTMENTS LLC  10/15/2019  10/11/2019  10/31/2021   72241   \n",
       "2                 YESENIA RAMIREZ  05/17/2019  05/16/2019  05/31/2021   72234   \n",
       "3               JAIME V FERNANDEZ  10/29/2015  01/01/2014  12/31/2021  541219   \n",
       "4  (W)RIGHT ON COMMUNICATIONS INC  06/22/2018  06/01/2018  05/31/2021   54182   \n",
       "\n",
       "                               ACTIVITY DESC  \n",
       "0  GASOLINE STATIONS WITH CONVENIENCE STORES  \n",
       "1      DRINKING PLACES (ALCOHOLIC BEVERAGES)  \n",
       "2                      COTTAGE FOOD OPERATOR  \n",
       "3                  OTHER ACCOUNTING SERVICES  \n",
       "4                  PUBLIC RELATIONS AGENCIES  "
      ]
     },
     "execution_count": 6,
     "metadata": {},
     "output_type": "execute_result"
    }
   ],
   "source": [
    "sdb_ak = pkg.reference('sd_businesses_ak').dataframe()\n",
    "sdb_lz = pkg.reference('sd_businesses_lz').dataframe()\n",
    "\n",
    "sdb = pd.concat([sdb_ak, sdb_lz])\n",
    "sb_mbl = sdb # The name in the metadata\n",
    "sdb.head()"
   ]
  },
  {
   "cell_type": "code",
   "execution_count": 7,
   "metadata": {},
   "outputs": [],
   "source": [
    "nl = pd.DataFrame( {\n",
    "    'account' :sb_mbl['BUSINESS ACCT#'],\n",
    "    'naics'   :sb_mbl['NAICS'],\n",
    "    'naics_2' :sb_mbl['NAICS'].astype(str).str.slice(0,2),\n",
    "    'naics_3' :sb_mbl['NAICS'].astype(str).str.slice(0,3),\n",
    "    'naics_4' :sb_mbl['NAICS'].astype(str).str.slice(0,4),\n",
    "    'naics_5' :sb_mbl['NAICS'].astype(str).str.slice(0,5),\n",
    "    'naics_6' :sb_mbl['NAICS'].astype(str).str.slice(0,6),\n",
    "})\n",
    "\n",
    "for c in nl.columns[1:]:\n",
    "    dc = c+\"_desc\"\n",
    "    nl[dc] = nl[c].apply(lambda v: naics_map.get(int_maybe(v)) )\n",
    "\n",
    "naics = nl"
   ]
  },
  {
   "cell_type": "code",
   "execution_count": 8,
   "metadata": {},
   "outputs": [
    {
     "data": {
      "text/plain": [
       "'Drinking Places (Alcoholic Beverages)'"
      ]
     },
     "execution_count": 8,
     "metadata": {},
     "output_type": "execute_result"
    }
   ],
   "source": [
    "naics_map.get(72241)"
   ]
  },
  {
   "cell_type": "code",
   "execution_count": 9,
   "metadata": {},
   "outputs": [],
   "source": [
    "t  = gpd.sjoin(bc, sd_county)\n",
    "sd_business_clusters = t[['cluster_n','geometry']]"
   ]
  },
  {
   "cell_type": "code",
   "execution_count": 6,
   "metadata": {},
   "outputs": [
    {
     "name": "stderr",
     "output_type": "stream",
     "text": [
      "Status code Unknown from http://barker:8080: ERROR - HTTPConnectionPool(host='barker', port=8080): Read timed out. (read timeout=5.0)\n"
     ]
    },
    {
     "name": "stdout",
     "output_type": "stream",
     "text": [
      "!!! 1370 Wilbur Ave, San Diego, CA <[ERROR - HTTPConnectionPool(host='barker', port=8080): Read timed out. (read timeout=5.0)] Osm - Geocode [empty]>\n"
     ]
    },
    {
     "ename": "GeocodeFailed",
     "evalue": "Failed to geocode '1370 Wilbur Ave, San Diego, CA'",
     "output_type": "error",
     "traceback": [
      "\u001b[0;31m---------------------------------------------------------------------------\u001b[0m",
      "\u001b[0;31mGeocodeFailed\u001b[0m                             Traceback (most recent call last)",
      "\u001b[0;32m<ipython-input-6-3baa914bdd19>\u001b[0m in \u001b[0;36m<module>\u001b[0;34m\u001b[0m\n\u001b[1;32m     20\u001b[0m         \u001b[0;32mreturn\u001b[0m \u001b[0mj\u001b[0m\u001b[0;34m\u001b[0m\u001b[0;34m\u001b[0m\u001b[0m\n\u001b[1;32m     21\u001b[0m \u001b[0;34m\u001b[0m\u001b[0m\n\u001b[0;32m---> 22\u001b[0;31m \u001b[0mgc\u001b[0m\u001b[0;34m.\u001b[0m\u001b[0mgeocode\u001b[0m\u001b[0;34m(\u001b[0m\u001b[0;34m'1370 Wilbur Ave, San Diego, CA'\u001b[0m\u001b[0;34m)\u001b[0m\u001b[0;34m\u001b[0m\u001b[0;34m\u001b[0m\u001b[0m\n\u001b[0m\u001b[1;32m     23\u001b[0m \u001b[0;34m\u001b[0m\u001b[0m\n",
      "\u001b[0;32m~/proj/code-projects/radius-search/demosearch/src/demosearch/geocode.py\u001b[0m in \u001b[0;36mgeocode\u001b[0;34m(self, query, force)\u001b[0m\n\u001b[1;32m    140\u001b[0m                 \u001b[0mself\u001b[0m\u001b[0;34m.\u001b[0m\u001b[0mnot_found\u001b[0m \u001b[0;34m+=\u001b[0m \u001b[0;36m1\u001b[0m\u001b[0;34m\u001b[0m\u001b[0;34m\u001b[0m\u001b[0m\n\u001b[1;32m    141\u001b[0m         \u001b[0;32melse\u001b[0m\u001b[0;34m:\u001b[0m\u001b[0;34m\u001b[0m\u001b[0;34m\u001b[0m\u001b[0m\n\u001b[0;32m--> 142\u001b[0;31m             \u001b[0;32mraise\u001b[0m \u001b[0mGeocodeFailed\u001b[0m\u001b[0;34m(\u001b[0m\u001b[0;34mf\"Failed to geocode '{query}'\"\u001b[0m\u001b[0;34m)\u001b[0m\u001b[0;34m\u001b[0m\u001b[0;34m\u001b[0m\u001b[0m\n\u001b[0m",
      "\u001b[0;31mGeocodeFailed\u001b[0m: Failed to geocode '1370 Wilbur Ave, San Diego, CA'"
     ]
    }
   ],
   "source": [
    "from demosearch.geocode import CachingGeocoder\n",
    "\n",
    "gc = CachingGeocoder(cache)\n",
    "\n",
    "def geocode(cache, text):\n",
    "    \n",
    "    text_enc = urllib.parse.quote_plus(text)\n",
    "    text_h = hashlib.sha224(text_enc.encode('utf8')).hexdigest()\n",
    "    \n",
    "    key = f\"geocode/{text_h[0:2]}/{text_h[2:4]}/{text_h}\"\n",
    "    \n",
    "    if cache.exists(key):\n",
    "        return cache.get(key)\n",
    "    else:\n",
    "        r = requests.get('http://barker:4000/v1/search?text='+text_enc)\n",
    "        r.raise_for_status()\n",
    "        j = r.json()\n",
    "        \n",
    "        cache.put(key, j)\n",
    "        return j\n",
    "\n",
    "gc.geocode('1370 Wilbur Ave, San Diego, CA')\n",
    "    "
   ]
  },
  {
   "cell_type": "code",
   "execution_count": 10,
   "metadata": {},
   "outputs": [],
   "source": [
    "#http://barker:4000/v1/search?text=1370%20Wilbur,%20San%20Diego,%20CA\n",
    "import requests\n",
    "import urllib.parse\n",
    "import hashlib \n",
    "from demosearch.util import run_mp\n",
    "\n",
    "    \n",
    "def geocode_chunk(cache, frame_key):\n",
    "    from time import sleep\n",
    "    from random import uniform\n",
    "    \n",
    "        \n",
    "    df = cache.get(frame_key)\n",
    "    results = []\n",
    "    for idx, row in df.iterrows():\n",
    "        addr = f\"{row.ADDRESS} {row.CITY} {row.ZIP}, {row.STATE}\"\n",
    "    \n",
    "        sleep_time = 1\n",
    "        for i in range(3):\n",
    "    \n",
    "            try:\n",
    "                j = geocode(cache, addr)\n",
    "                r = j['features'][0]['geometry']\n",
    "            except IndexError as e:\n",
    "                \n",
    "                break\n",
    "            except Exception as e:\n",
    "                if e.response is not None and e.response.status_code == 400:\n",
    "                    print(\"Timeout: Iter\",i,' sleep', sleep_time, e)\n",
    "                    sleep(sleep_time+uniform(0,3))\n",
    "                    sleep_time *= 2\n",
    "                       \n",
    "                else:\n",
    "                    r = e\n",
    "                    break\n",
    "            \n",
    "        results.append( (row['BUSINESS ACCT#'], addr, r))\n",
    "\n",
    "    return results\n",
    "\n",
    "chunk_size = int(len(sdb)/100)\n",
    "\n",
    "\n",
    "frames = [sdb[i:i+chunk_size] for i in range(0,sdb.shape[0],chunk_size)]\n",
    "tasks = []\n",
    "for i, f in enumerate(frames):\n",
    "    key =  f'chunks/{i}'\n",
    "    \n",
    "    cache.put_df(key, f)\n",
    "    tasks.append( (cache, key))\n",
    "\n",
    "print(\"Start MP run\")\n",
    "r = run_mp(geocode_chunk, tasks, n_cpu=4)"
   ]
  },
  {
   "cell_type": "code",
   "execution_count": 13,
   "metadata": {},
   "outputs": [],
   "source": [
    "rc = [ e for e in list(chain(*r))]"
   ]
  },
  {
   "cell_type": "code",
   "execution_count": 22,
   "metadata": {},
   "outputs": [
    {
     "data": {
      "text/plain": [
       "requests.exceptions.ConnectionError(urllib3.exceptions.MaxRetryError('None: Max retries exceeded with url: /v1/search?text=4704+IMPERIAL+AVE+SAN+DIEGO+92113-5001%2C+CA (Caused by None)'))"
      ]
     },
     "execution_count": 22,
     "metadata": {},
     "output_type": "execute_result"
    }
   ],
   "source": [
    "rc[0][2]"
   ]
  },
  {
   "cell_type": "code",
   "execution_count": 24,
   "metadata": {},
   "outputs": [
    {
     "data": {
      "text/plain": [
       "1.0"
      ]
     },
     "execution_count": 24,
     "metadata": {},
     "output_type": "execute_result"
    }
   ],
   "source": [
    "sum( 1 if isinstance(e[2], Exception) else 0 for e in rc )/len(rc)"
   ]
  },
  {
   "cell_type": "code",
   "execution_count": 10,
   "metadata": {},
   "outputs": [
    {
     "name": "stdout",
     "output_type": "stream",
     "text": [
      "Start MP run\n"
     ]
    },
    {
     "data": {
      "application/vnd.jupyter.widget-view+json": {
       "model_id": "",
       "version_major": 2,
       "version_minor": 0
      },
      "text/plain": [
       "  0%|          | 0/101 [00:00<?, ?it/s]"
      ]
     },
     "metadata": {},
     "output_type": "display_data"
    },
    {
     "ename": "TypeError",
     "evalue": "'ConnectionError' object is not subscriptable",
     "output_type": "error",
     "traceback": [
      "\u001b[0;31m---------------------------------------------------------------------------\u001b[0m",
      "\u001b[0;31mTypeError\u001b[0m                                 Traceback (most recent call last)",
      "\u001b[0;32m<ipython-input-10-ada95d30c372>\u001b[0m in \u001b[0;36m<module>\u001b[0;34m\u001b[0m\n\u001b[1;32m     70\u001b[0m \u001b[0;32mfrom\u001b[0m \u001b[0mitertools\u001b[0m \u001b[0;32mimport\u001b[0m \u001b[0mchain\u001b[0m\u001b[0;34m\u001b[0m\u001b[0;34m\u001b[0m\u001b[0m\n\u001b[1;32m     71\u001b[0m \u001b[0;32mimport\u001b[0m \u001b[0mgeopandas\u001b[0m \u001b[0;32mas\u001b[0m \u001b[0mgpd\u001b[0m\u001b[0;34m\u001b[0m\u001b[0;34m\u001b[0m\u001b[0m\n\u001b[0;32m---> 72\u001b[0;31m \u001b[0mrows\u001b[0m \u001b[0;34m=\u001b[0m \u001b[0;34m[\u001b[0m \u001b[0;34m(\u001b[0m\u001b[0me\u001b[0m\u001b[0;34m[\u001b[0m\u001b[0;36m0\u001b[0m\u001b[0;34m]\u001b[0m\u001b[0;34m,\u001b[0m\u001b[0me\u001b[0m\u001b[0;34m[\u001b[0m\u001b[0;36m1\u001b[0m\u001b[0;34m]\u001b[0m\u001b[0;34m,\u001b[0m\u001b[0me\u001b[0m\u001b[0;34m[\u001b[0m\u001b[0;36m2\u001b[0m\u001b[0;34m]\u001b[0m\u001b[0;34m[\u001b[0m\u001b[0;34m'coordinates'\u001b[0m\u001b[0;34m]\u001b[0m\u001b[0;34m[\u001b[0m\u001b[0;36m1\u001b[0m\u001b[0;34m]\u001b[0m\u001b[0;34m,\u001b[0m \u001b[0me\u001b[0m\u001b[0;34m[\u001b[0m\u001b[0;36m2\u001b[0m\u001b[0;34m]\u001b[0m\u001b[0;34m[\u001b[0m\u001b[0;34m'coordinates'\u001b[0m\u001b[0;34m]\u001b[0m\u001b[0;34m[\u001b[0m\u001b[0;36m0\u001b[0m\u001b[0;34m]\u001b[0m\u001b[0;34m)\u001b[0m \u001b[0;32mfor\u001b[0m \u001b[0me\u001b[0m \u001b[0;32min\u001b[0m \u001b[0mlist\u001b[0m\u001b[0;34m(\u001b[0m\u001b[0mchain\u001b[0m\u001b[0;34m(\u001b[0m\u001b[0;34m*\u001b[0m\u001b[0mr\u001b[0m\u001b[0;34m)\u001b[0m\u001b[0;34m)\u001b[0m\u001b[0;34m]\u001b[0m\u001b[0;34m\u001b[0m\u001b[0;34m\u001b[0m\u001b[0m\n\u001b[0m\u001b[1;32m     73\u001b[0m \u001b[0;34m\u001b[0m\u001b[0m\n\u001b[1;32m     74\u001b[0m \u001b[0mgcodes\u001b[0m \u001b[0;34m=\u001b[0m \u001b[0mpd\u001b[0m\u001b[0;34m.\u001b[0m\u001b[0mDataFrame\u001b[0m\u001b[0;34m(\u001b[0m\u001b[0mrows\u001b[0m\u001b[0;34m,\u001b[0m \u001b[0mcolumns\u001b[0m\u001b[0;34m=\u001b[0m\u001b[0;34m'account gc_address lat lon'\u001b[0m\u001b[0;34m.\u001b[0m\u001b[0msplit\u001b[0m\u001b[0;34m(\u001b[0m\u001b[0;34m)\u001b[0m\u001b[0;34m)\u001b[0m\u001b[0;34m\u001b[0m\u001b[0;34m\u001b[0m\u001b[0m\n",
      "\u001b[0;32m<ipython-input-10-ada95d30c372>\u001b[0m in \u001b[0;36m<listcomp>\u001b[0;34m(.0)\u001b[0m\n\u001b[1;32m     70\u001b[0m \u001b[0;32mfrom\u001b[0m \u001b[0mitertools\u001b[0m \u001b[0;32mimport\u001b[0m \u001b[0mchain\u001b[0m\u001b[0;34m\u001b[0m\u001b[0;34m\u001b[0m\u001b[0m\n\u001b[1;32m     71\u001b[0m \u001b[0;32mimport\u001b[0m \u001b[0mgeopandas\u001b[0m \u001b[0;32mas\u001b[0m \u001b[0mgpd\u001b[0m\u001b[0;34m\u001b[0m\u001b[0;34m\u001b[0m\u001b[0m\n\u001b[0;32m---> 72\u001b[0;31m \u001b[0mrows\u001b[0m \u001b[0;34m=\u001b[0m \u001b[0;34m[\u001b[0m \u001b[0;34m(\u001b[0m\u001b[0me\u001b[0m\u001b[0;34m[\u001b[0m\u001b[0;36m0\u001b[0m\u001b[0;34m]\u001b[0m\u001b[0;34m,\u001b[0m\u001b[0me\u001b[0m\u001b[0;34m[\u001b[0m\u001b[0;36m1\u001b[0m\u001b[0;34m]\u001b[0m\u001b[0;34m,\u001b[0m\u001b[0me\u001b[0m\u001b[0;34m[\u001b[0m\u001b[0;36m2\u001b[0m\u001b[0;34m]\u001b[0m\u001b[0;34m[\u001b[0m\u001b[0;34m'coordinates'\u001b[0m\u001b[0;34m]\u001b[0m\u001b[0;34m[\u001b[0m\u001b[0;36m1\u001b[0m\u001b[0;34m]\u001b[0m\u001b[0;34m,\u001b[0m \u001b[0me\u001b[0m\u001b[0;34m[\u001b[0m\u001b[0;36m2\u001b[0m\u001b[0;34m]\u001b[0m\u001b[0;34m[\u001b[0m\u001b[0;34m'coordinates'\u001b[0m\u001b[0;34m]\u001b[0m\u001b[0;34m[\u001b[0m\u001b[0;36m0\u001b[0m\u001b[0;34m]\u001b[0m\u001b[0;34m)\u001b[0m \u001b[0;32mfor\u001b[0m \u001b[0me\u001b[0m \u001b[0;32min\u001b[0m \u001b[0mlist\u001b[0m\u001b[0;34m(\u001b[0m\u001b[0mchain\u001b[0m\u001b[0;34m(\u001b[0m\u001b[0;34m*\u001b[0m\u001b[0mr\u001b[0m\u001b[0;34m)\u001b[0m\u001b[0;34m)\u001b[0m\u001b[0;34m]\u001b[0m\u001b[0;34m\u001b[0m\u001b[0;34m\u001b[0m\u001b[0m\n\u001b[0m\u001b[1;32m     73\u001b[0m \u001b[0;34m\u001b[0m\u001b[0m\n\u001b[1;32m     74\u001b[0m \u001b[0mgcodes\u001b[0m \u001b[0;34m=\u001b[0m \u001b[0mpd\u001b[0m\u001b[0;34m.\u001b[0m\u001b[0mDataFrame\u001b[0m\u001b[0;34m(\u001b[0m\u001b[0mrows\u001b[0m\u001b[0;34m,\u001b[0m \u001b[0mcolumns\u001b[0m\u001b[0;34m=\u001b[0m\u001b[0;34m'account gc_address lat lon'\u001b[0m\u001b[0;34m.\u001b[0m\u001b[0msplit\u001b[0m\u001b[0;34m(\u001b[0m\u001b[0;34m)\u001b[0m\u001b[0;34m)\u001b[0m\u001b[0;34m\u001b[0m\u001b[0;34m\u001b[0m\u001b[0m\n",
      "\u001b[0;31mTypeError\u001b[0m: 'ConnectionError' object is not subscriptable"
     ]
    }
   ],
   "source": [
    "from itertools import chain\n",
    "import geopandas as gpd\n",
    "rows = [ (e[0],e[1],e[2]['coordinates'][1], e[2]['coordinates'][0]) for e in list(chain(*r))]\n",
    "\n",
    "gcodes = pd.DataFrame(rows, columns='account gc_address lat lon'.split())\n",
    "gcodes['geometry'] = gpd.points_from_xy(gcodes.lon, gcodes.lat)\n",
    "gcodes = gpd.GeoDataFrame(gcodes, crs=4326)\n",
    "\n",
    "t = gcodes.merge(sdb, left_on='account', right_on='BUSINESS ACCT#')\n",
    "t  = gpd.sjoin(t, sd_county)"
   ]
  },
  {
   "cell_type": "code",
   "execution_count": null,
   "metadata": {},
   "outputs": [],
   "source": [
    "cols = ['account', 'gc_address', 'lat', 'lon',  'DBA NAME', 'OWNERSHIP TYPE',\n",
    "         'CREATION DT', 'START DT', 'EXP DT', 'OWNER NAME','NAICS', 'ACTIVITY DESC', 'geometry']\n",
    "sd_businesses = t[cols]"
   ]
  },
  {
   "cell_type": "code",
   "execution_count": null,
   "metadata": {},
   "outputs": [],
   "source": [
    "blocks = pkg.reference('census_bg').geoframe()\n",
    "pop =  pkg.reference('total_population').dataframe()\n",
    "t = blocks.merge(pop.reset_index())\n",
    "cols = ['geoid',  'aland','b01003_001', 'intptlat', 'intptlon', 'geometry']\n",
    "blocks = t[cols].rename(columns={'b01003_001':'pop', \"aland\":'area'}).to_crs(4326)\n"
   ]
  },
  {
   "cell_type": "code",
   "execution_count": null,
   "metadata": {},
   "outputs": [],
   "source": [
    "# Merge blockgroup population into sd_businesses\n",
    "from geoid.censusnames import stusab\n",
    "import rowgenerators as rg\n",
    "\n",
    "\n",
    "t = gpd.sjoin(sd_businesses, blocks)\n",
    "sd_businesses = t[list(sd_businesses.columns) + ['geoid','pop', 'area']]\n",
    "\n",
    "sd_businesses.head()"
   ]
  },
  {
   "cell_type": "code",
   "execution_count": null,
   "metadata": {},
   "outputs": [],
   "source": [
    "t = gpd.sjoin(sd_businesses, sd_business_clusters, how='left')\n",
    "cols = ['account', 'gc_address', 'lat', 'lon', 'geoid', 'pop', 'area', 'DBA NAME', 'OWNERSHIP TYPE',\n",
    "         'CREATION DT', 'START DT', 'EXP DT', 'OWNER NAME','NAICS', 'ACTIVITY DESC', \n",
    "        'cluster_n','geometry']\n",
    "t['cluster_n'] = t.cluster_n.fillna(0)\n",
    "sd_custered_businesses = t[cols]\n"
   ]
  },
  {
   "cell_type": "code",
   "execution_count": null,
   "metadata": {},
   "outputs": [],
   "source": [
    "bid = pkg.reference('bid').geoframe().to_crs(4326)\n",
    "bid = bid[['NAME2','SYMBOL', 'geometry']].rename(columns={'NAME2':'bid_name','SYMBOL':'bid_code'})\n",
    "bid.plot(column='bid_name')\n"
   ]
  },
  {
   "cell_type": "code",
   "execution_count": null,
   "metadata": {},
   "outputs": [],
   "source": [
    "t = gpd.sjoin(sd_custered_businesses, bid, how='left').drop(columns=['index_right'])\n",
    "sd_custered_businesses = t[ [c for c in t.columns if c != 'geometry'] + ['geometry']]"
   ]
  },
  {
   "cell_type": "code",
   "execution_count": null,
   "metadata": {},
   "outputs": [],
   "source": [
    "sd_custered_businesses.head().T"
   ]
  },
  {
   "cell_type": "code",
   "execution_count": null,
   "metadata": {},
   "outputs": [],
   "source": [
    "!pwd\n"
   ]
  },
  {
   "cell_type": "code",
   "execution_count": null,
   "metadata": {},
   "outputs": [],
   "source": []
  }
 ],
 "metadata": {
  "kernelspec": {
   "display_name": "Python 3",
   "language": "python",
   "name": "python3"
  },
  "language_info": {
   "codemirror_mode": {
    "name": "ipython",
    "version": 3
   },
   "file_extension": ".py",
   "mimetype": "text/x-python",
   "name": "python",
   "nbconvert_exporter": "python",
   "pygments_lexer": "ipython3",
   "version": "3.8.8"
  }
 },
 "nbformat": 4,
 "nbformat_minor": 4
}
